{
  "nbformat": 4,
  "nbformat_minor": 0,
  "metadata": {
    "colab": {
      "name": "Intro_To_DataScience_Workshop.ipynb",
      "provenance": [],
      "authorship_tag": "ABX9TyOJtJQ/sP3bx5+y5p1/Pzqf",
      "include_colab_link": true
    },
    "kernelspec": {
      "name": "python3",
      "display_name": "Python 3"
    }
  },
  "cells": [
    {
      "cell_type": "markdown",
      "metadata": {
        "id": "view-in-github",
        "colab_type": "text"
      },
      "source": [
        "<a href=\"https://colab.research.google.com/github/Amitparikh1/CADS_DataScienceWorkshop/blob/main/Intro_To_DataScience_Workshop.ipynb\" target=\"_parent\"><img src=\"https://colab.research.google.com/assets/colab-badge.svg\" alt=\"Open In Colab\"/></a>"
      ]
    },
    {
      "cell_type": "markdown",
      "metadata": {
        "id": "lZ7U2BvymdL8"
      },
      "source": [
        "Imports "
      ]
    },
    {
      "cell_type": "code",
      "metadata": {
        "id": "jBeBFTZ_mfP5"
      },
      "source": [
        "import pandas as pd\n",
        "import matplotlib.pyplot as plt"
      ],
      "execution_count": 2,
      "outputs": []
    },
    {
      "cell_type": "markdown",
      "metadata": {
        "id": "PRHtRTTHmZYZ"
      },
      "source": [
        "Read in the data "
      ]
    },
    {
      "cell_type": "code",
      "metadata": {
        "id": "GFXTNZgkmTtQ",
        "outputId": "584f13ea-fadd-4119-9dff-23ea03010bc6",
        "colab": {
          "base_uri": "https://localhost:8080/",
          "height": 394
        }
      },
      "source": [
        "## Read from a csv\n",
        "url=\"https://raw.githubusercontent.com/Amitparikh1/CADS_DataScienceWorkshop/main/most-recent-field-data-elements.csv\"\n",
        "all_data = pd.read_csv(url)\n",
        "\n",
        "## \"head()\" Command to look at the first 5 rows of data\n",
        "all_data.head()\n",
        "\n",
        "## Selecting Columns\n",
        "#example = all_data['INSTNM']\n",
        "## Selecting Rows by the Index\n",
        "#example = all_data.loc[5]\n",
        "## Selecting Rows by a value in a column\n",
        "#example = all_data.loc[all_data['CONTROL']=='Public']\n",
        "\n",
        "\n",
        "#print(example)"
      ],
      "execution_count": 26,
      "outputs": [
        {
          "output_type": "execute_result",
          "data": {
            "text/html": [
              "<div>\n",
              "<style scoped>\n",
              "    .dataframe tbody tr th:only-of-type {\n",
              "        vertical-align: middle;\n",
              "    }\n",
              "\n",
              "    .dataframe tbody tr th {\n",
              "        vertical-align: top;\n",
              "    }\n",
              "\n",
              "    .dataframe thead th {\n",
              "        text-align: right;\n",
              "    }\n",
              "</style>\n",
              "<table border=\"1\" class=\"dataframe\">\n",
              "  <thead>\n",
              "    <tr style=\"text-align: right;\">\n",
              "      <th></th>\n",
              "      <th>UNITID</th>\n",
              "      <th>OPEID6</th>\n",
              "      <th>INSTNM</th>\n",
              "      <th>CONTROL</th>\n",
              "      <th>MAIN</th>\n",
              "      <th>CIPCODE</th>\n",
              "      <th>CIPDESC</th>\n",
              "      <th>CREDLEV</th>\n",
              "      <th>CREDDESC</th>\n",
              "      <th>COUNT</th>\n",
              "      <th>DEBTMEDIAN</th>\n",
              "      <th>DEBTPAYMENT10YR</th>\n",
              "      <th>DEBTMEAN</th>\n",
              "      <th>TITLEIVCOUNT</th>\n",
              "      <th>EARNINGSCOUNT</th>\n",
              "      <th>MD_EARN_WNE</th>\n",
              "      <th>IPEDSCOUNT1</th>\n",
              "      <th>IPEDSCOUNT2</th>\n",
              "    </tr>\n",
              "  </thead>\n",
              "  <tbody>\n",
              "    <tr>\n",
              "      <th>0</th>\n",
              "      <td>100654.0</td>\n",
              "      <td>1002</td>\n",
              "      <td>Alabama A &amp; M University</td>\n",
              "      <td>Public</td>\n",
              "      <td>1</td>\n",
              "      <td>100</td>\n",
              "      <td>Agriculture, General.</td>\n",
              "      <td>3</td>\n",
              "      <td>Bachelors Degree</td>\n",
              "      <td>PrivacySuppressed</td>\n",
              "      <td>PrivacySuppressed</td>\n",
              "      <td>PrivacySuppressed</td>\n",
              "      <td>PrivacySuppressed</td>\n",
              "      <td>PrivacySuppressed</td>\n",
              "      <td>PrivacySuppressed</td>\n",
              "      <td>PrivacySuppressed</td>\n",
              "      <td>4.0</td>\n",
              "      <td>NaN</td>\n",
              "    </tr>\n",
              "    <tr>\n",
              "      <th>1</th>\n",
              "      <td>100654.0</td>\n",
              "      <td>1002</td>\n",
              "      <td>Alabama A &amp; M University</td>\n",
              "      <td>Public</td>\n",
              "      <td>1</td>\n",
              "      <td>101</td>\n",
              "      <td>Agricultural Business and Management.</td>\n",
              "      <td>3</td>\n",
              "      <td>Bachelors Degree</td>\n",
              "      <td>PrivacySuppressed</td>\n",
              "      <td>PrivacySuppressed</td>\n",
              "      <td>PrivacySuppressed</td>\n",
              "      <td>PrivacySuppressed</td>\n",
              "      <td>PrivacySuppressed</td>\n",
              "      <td>PrivacySuppressed</td>\n",
              "      <td>PrivacySuppressed</td>\n",
              "      <td>NaN</td>\n",
              "      <td>NaN</td>\n",
              "    </tr>\n",
              "    <tr>\n",
              "      <th>2</th>\n",
              "      <td>100654.0</td>\n",
              "      <td>1002</td>\n",
              "      <td>Alabama A &amp; M University</td>\n",
              "      <td>Public</td>\n",
              "      <td>1</td>\n",
              "      <td>109</td>\n",
              "      <td>Animal Sciences.</td>\n",
              "      <td>3</td>\n",
              "      <td>Bachelors Degree</td>\n",
              "      <td>PrivacySuppressed</td>\n",
              "      <td>PrivacySuppressed</td>\n",
              "      <td>PrivacySuppressed</td>\n",
              "      <td>31066</td>\n",
              "      <td>PrivacySuppressed</td>\n",
              "      <td>PrivacySuppressed</td>\n",
              "      <td>PrivacySuppressed</td>\n",
              "      <td>7.0</td>\n",
              "      <td>6.0</td>\n",
              "    </tr>\n",
              "    <tr>\n",
              "      <th>3</th>\n",
              "      <td>100654.0</td>\n",
              "      <td>1002</td>\n",
              "      <td>Alabama A &amp; M University</td>\n",
              "      <td>Public</td>\n",
              "      <td>1</td>\n",
              "      <td>110</td>\n",
              "      <td>Food Science and Technology.</td>\n",
              "      <td>3</td>\n",
              "      <td>Bachelors Degree</td>\n",
              "      <td>PrivacySuppressed</td>\n",
              "      <td>PrivacySuppressed</td>\n",
              "      <td>PrivacySuppressed</td>\n",
              "      <td>PrivacySuppressed</td>\n",
              "      <td>PrivacySuppressed</td>\n",
              "      <td>PrivacySuppressed</td>\n",
              "      <td>PrivacySuppressed</td>\n",
              "      <td>5.0</td>\n",
              "      <td>8.0</td>\n",
              "    </tr>\n",
              "    <tr>\n",
              "      <th>4</th>\n",
              "      <td>100654.0</td>\n",
              "      <td>1002</td>\n",
              "      <td>Alabama A &amp; M University</td>\n",
              "      <td>Public</td>\n",
              "      <td>1</td>\n",
              "      <td>110</td>\n",
              "      <td>Food Science and Technology.</td>\n",
              "      <td>5</td>\n",
              "      <td>Master's Degree</td>\n",
              "      <td>15</td>\n",
              "      <td>PrivacySuppressed</td>\n",
              "      <td>PrivacySuppressed</td>\n",
              "      <td>61527</td>\n",
              "      <td>PrivacySuppressed</td>\n",
              "      <td>PrivacySuppressed</td>\n",
              "      <td>PrivacySuppressed</td>\n",
              "      <td>9.0</td>\n",
              "      <td>10.0</td>\n",
              "    </tr>\n",
              "  </tbody>\n",
              "</table>\n",
              "</div>"
            ],
            "text/plain": [
              "     UNITID  OPEID6  ... IPEDSCOUNT1 IPEDSCOUNT2\n",
              "0  100654.0    1002  ...         4.0         NaN\n",
              "1  100654.0    1002  ...         NaN         NaN\n",
              "2  100654.0    1002  ...         7.0         6.0\n",
              "3  100654.0    1002  ...         5.0         8.0\n",
              "4  100654.0    1002  ...         9.0        10.0\n",
              "\n",
              "[5 rows x 18 columns]"
            ]
          },
          "metadata": {
            "tags": []
          },
          "execution_count": 26
        }
      ]
    },
    {
      "cell_type": "markdown",
      "metadata": {
        "id": "r7BqImpTnrE6"
      },
      "source": [
        "Clean the Data"
      ]
    },
    {
      "cell_type": "code",
      "metadata": {
        "id": "xnOsyXHYnsJ-",
        "outputId": "c271833b-205d-4482-a58f-adcb341463f8",
        "colab": {
          "base_uri": "https://localhost:8080/",
          "height": 136
        }
      },
      "source": [
        "## Select the columns that we want \n",
        "df = all_data[['CIPDESC','CREDDESC','MD_EARN_WNE']]\n",
        "\n",
        "## Select rows that are about Bachelors Degrees\n",
        "df = df.loc[df['CREDDESC']==\"Bachelors Degree\"]\n",
        "\n",
        "## Select rows that have values for the median earnings\n",
        "df = df.loc[df['MD_EARN_WNE']!= \"PrivacySuppressed\"]\n",
        "\n",
        "\n",
        "## Convert Median Earnings Column to a numeric value from string\n",
        "df['MD_EARN_WNE'] = df['MD_EARN_WNE'].astype(int)\n",
        "## Combine rows by their field of study and average their median earnings \n",
        "df = df.groupby(df['CIPDESC'],as_index=False).mean()\n",
        "## Sort by highest to lowest paying \n",
        "df = df.sort_values(by='MD_EARN_WNE',ascending=False)\n",
        "\n",
        "df = df.reset_index(drop=True)\n",
        "df.head()\n",
        "## Finding certain values\n",
        "print(df.loc[df['CIPDESC']=='Computer Science.'])\n",
        "print(df.loc[df['CIPDESC']=='Statistics.'])\n"
      ],
      "execution_count": 37,
      "outputs": [
        {
          "output_type": "stream",
          "text": [
            "Empty DataFrame\n",
            "Columns: [CIPDESC, MD_EARN_WNE]\n",
            "Index: []\n",
            "              CIPDESC   MD_EARN_WNE\n",
            "12  Computer Science.  66347.727273\n",
            "        CIPDESC   MD_EARN_WNE\n",
            "46  Statistics.  55352.173913\n"
          ],
          "name": "stdout"
        }
      ]
    },
    {
      "cell_type": "markdown",
      "metadata": {
        "id": "tg04AisUt9zc"
      },
      "source": [
        "Plotting the Data"
      ]
    },
    {
      "cell_type": "code",
      "metadata": {
        "id": "jNTMaK9ft_Jx",
        "outputId": "2101036e-4558-41c9-afe7-7f2443e36a9f",
        "colab": {
          "base_uri": "https://localhost:8080/",
          "height": 598
        }
      },
      "source": [
        "###  Bar Chart of the top 10 median salaries by Field of Study\n",
        "## Get the top 10 rows\n",
        "top_ten = df.iloc[0:10]\n",
        "\n",
        "## Bar chart \n",
        "plt.bar(x=top_ten['CIPDESC'],height=top_ten['MD_EARN_WNE'])\n",
        "\n",
        "# Format the x ticks\n",
        "plt.xticks(rotation=90)\n",
        "\n",
        "# Add labels to the axes\n",
        "plt.xlabel(\"Field of Study\",fontsize=16)\n",
        "plt.ylabel(\"Median Salary in USD\",fontsize=16)\n",
        "\n",
        "# Add a title\n",
        "plt.title(\"Top 10 Fields of Study by Median Salary\",fontsize=20)\n",
        "\n",
        "plt.show()\n"
      ],
      "execution_count": 30,
      "outputs": [
        {
          "output_type": "display_data",
          "data": {
            "image/png": "[encoded data removed]",
            "text/plain": [
              "<Figure size 432x288 with 1 Axes>"
            ]
          },
          "metadata": {
            "tags": [],
            "needs_background": "light"
          }
        }
      ]
    },
    {
      "cell_type": "markdown",
      "metadata": {
        "id": "I9s2Y9nUeHzV"
      },
      "source": [
        "Other Things to Try:"
      ]
    },
    {
      "cell_type": "code",
      "metadata": {
        "id": "VAInq2Aw0xYN"
      },
      "source": [
        "## Compare earnings and debt by degree level. Are the higher starting salaries from Bachelor's degrees worth the higher debt compared to Associate's degrees\n",
        "## Using the count column, find the most popular fields of study. Do these align with high paying fields?\n",
        "## Create a column to calculate the Median Earnings to Median Debt Ratio. Is this higher for public or private schools? \n",
        "## Explore the data, try new things, look at the Pandas and Matplotlib documentation pages for ideas"
      ],
      "execution_count": null,
      "outputs": []
    }
  ]
}