{
  "nbformat": 4,
  "nbformat_minor": 0,
  "metadata": {
    "colab": {
      "name": "Intro_To_DataScience_Workshop.ipynb",
      "provenance": [],
      "authorship_tag": "ABX9TyOyKKsQWP0jSlTCIy1nu1qY",
      "include_colab_link": true
    },
    "kernelspec": {
      "name": "python3",
      "display_name": "Python 3"
    }
  },
  "cells": [
    {
      "cell_type": "markdown",
      "metadata": {
        "id": "view-in-github",
        "colab_type": "text"
      },
      "source": [
        "<a href=\"https://colab.research.google.com/github/Amitparikh1/CADS_DataScienceWorkshop/blob/main/Intro_To_DataScience_Workshop.ipynb\" target=\"_parent\"><img src=\"https://colab.research.google.com/assets/colab-badge.svg\" alt=\"Open In Colab\"/></a>"
      ]
    },
    {
      "cell_type": "markdown",
      "metadata": {
        "id": "lZ7U2BvymdL8"
      },
      "source": [
        "Imports "
      ]
    },
    {
      "cell_type": "code",
      "metadata": {
        "id": "jBeBFTZ_mfP5"
      },
      "source": [
        "import pandas as pd\n",
        "import matplotlib.pyplot as plt"
      ],
      "execution_count": 64,
      "outputs": []
    },
    {
      "cell_type": "markdown",
      "metadata": {
        "id": "PRHtRTTHmZYZ"
      },
      "source": [
        "Read in the data "
      ]
    },
    {
      "cell_type": "code",
      "metadata": {
        "id": "GFXTNZgkmTtQ",
        "outputId": "94568018-657a-4e43-dd1a-331cb75735cb",
        "colab": {
          "base_uri": "https://localhost:8080/",
          "height": 394
        }
      },
      "source": [
        "## Read from a csv\n",
        "url=\"https://raw.githubusercontent.com/Amitparikh1/CADS_DataScienceWorkshop/main/most-recent-field-data-elements.csv\"\n",
        "all_data = pd.read_csv(url)\n",
        "\n",
        "## \"head()\" Command to look at the first 5 rows of data\n",
        "all_data.head()\n"
      ],
      "execution_count": 75,
      "outputs": [
        {
          "output_type": "execute_result",
          "data": {
            "text/html": [
              "<div>\n",
              "<style scoped>\n",
              "    .dataframe tbody tr th:only-of-type {\n",
              "        vertical-align: middle;\n",
              "    }\n",
              "\n",
              "    .dataframe tbody tr th {\n",
              "        vertical-align: top;\n",
              "    }\n",
              "\n",
              "    .dataframe thead th {\n",
              "        text-align: right;\n",
              "    }\n",
              "</style>\n",
              "<table border=\"1\" class=\"dataframe\">\n",
              "  <thead>\n",
              "    <tr style=\"text-align: right;\">\n",
              "      <th></th>\n",
              "      <th>UNITID</th>\n",
              "      <th>OPEID6</th>\n",
              "      <th>INSTNM</th>\n",
              "      <th>CONTROL</th>\n",
              "      <th>MAIN</th>\n",
              "      <th>CIPCODE</th>\n",
              "      <th>CIPDESC</th>\n",
              "      <th>CREDLEV</th>\n",
              "      <th>CREDDESC</th>\n",
              "      <th>COUNT</th>\n",
              "      <th>DEBTMEDIAN</th>\n",
              "      <th>DEBTPAYMENT10YR</th>\n",
              "      <th>DEBTMEAN</th>\n",
              "      <th>TITLEIVCOUNT</th>\n",
              "      <th>EARNINGSCOUNT</th>\n",
              "      <th>MD_EARN_WNE</th>\n",
              "      <th>IPEDSCOUNT1</th>\n",
              "      <th>IPEDSCOUNT2</th>\n",
              "    </tr>\n",
              "  </thead>\n",
              "  <tbody>\n",
              "    <tr>\n",
              "      <th>0</th>\n",
              "      <td>100654.0</td>\n",
              "      <td>1002</td>\n",
              "      <td>Alabama A &amp; M University</td>\n",
              "      <td>Public</td>\n",
              "      <td>1</td>\n",
              "      <td>100</td>\n",
              "      <td>Agriculture, General.</td>\n",
              "      <td>3</td>\n",
              "      <td>Bachelors Degree</td>\n",
              "      <td>PrivacySuppressed</td>\n",
              "      <td>PrivacySuppressed</td>\n",
              "      <td>PrivacySuppressed</td>\n",
              "      <td>PrivacySuppressed</td>\n",
              "      <td>PrivacySuppressed</td>\n",
              "      <td>PrivacySuppressed</td>\n",
              "      <td>PrivacySuppressed</td>\n",
              "      <td>4.0</td>\n",
              "      <td>NaN</td>\n",
              "    </tr>\n",
              "    <tr>\n",
              "      <th>1</th>\n",
              "      <td>100654.0</td>\n",
              "      <td>1002</td>\n",
              "      <td>Alabama A &amp; M University</td>\n",
              "      <td>Public</td>\n",
              "      <td>1</td>\n",
              "      <td>101</td>\n",
              "      <td>Agricultural Business and Management.</td>\n",
              "      <td>3</td>\n",
              "      <td>Bachelors Degree</td>\n",
              "      <td>PrivacySuppressed</td>\n",
              "      <td>PrivacySuppressed</td>\n",
              "      <td>PrivacySuppressed</td>\n",
              "      <td>PrivacySuppressed</td>\n",
              "      <td>PrivacySuppressed</td>\n",
              "      <td>PrivacySuppressed</td>\n",
              "      <td>PrivacySuppressed</td>\n",
              "      <td>NaN</td>\n",
              "      <td>NaN</td>\n",
              "    </tr>\n",
              "    <tr>\n",
              "      <th>2</th>\n",
              "      <td>100654.0</td>\n",
              "      <td>1002</td>\n",
              "      <td>Alabama A &amp; M University</td>\n",
              "      <td>Public</td>\n",
              "      <td>1</td>\n",
              "      <td>109</td>\n",
              "      <td>Animal Sciences.</td>\n",
              "      <td>3</td>\n",
              "      <td>Bachelors Degree</td>\n",
              "      <td>PrivacySuppressed</td>\n",
              "      <td>PrivacySuppressed</td>\n",
              "      <td>PrivacySuppressed</td>\n",
              "      <td>31066</td>\n",
              "      <td>PrivacySuppressed</td>\n",
              "      <td>PrivacySuppressed</td>\n",
              "      <td>PrivacySuppressed</td>\n",
              "      <td>7.0</td>\n",
              "      <td>6.0</td>\n",
              "    </tr>\n",
              "    <tr>\n",
              "      <th>3</th>\n",
              "      <td>100654.0</td>\n",
              "      <td>1002</td>\n",
              "      <td>Alabama A &amp; M University</td>\n",
              "      <td>Public</td>\n",
              "      <td>1</td>\n",
              "      <td>110</td>\n",
              "      <td>Food Science and Technology.</td>\n",
              "      <td>3</td>\n",
              "      <td>Bachelors Degree</td>\n",
              "      <td>PrivacySuppressed</td>\n",
              "      <td>PrivacySuppressed</td>\n",
              "      <td>PrivacySuppressed</td>\n",
              "      <td>PrivacySuppressed</td>\n",
              "      <td>PrivacySuppressed</td>\n",
              "      <td>PrivacySuppressed</td>\n",
              "      <td>PrivacySuppressed</td>\n",
              "      <td>5.0</td>\n",
              "      <td>8.0</td>\n",
              "    </tr>\n",
              "    <tr>\n",
              "      <th>4</th>\n",
              "      <td>100654.0</td>\n",
              "      <td>1002</td>\n",
              "      <td>Alabama A &amp; M University</td>\n",
              "      <td>Public</td>\n",
              "      <td>1</td>\n",
              "      <td>110</td>\n",
              "      <td>Food Science and Technology.</td>\n",
              "      <td>5</td>\n",
              "      <td>Master's Degree</td>\n",
              "      <td>15</td>\n",
              "      <td>PrivacySuppressed</td>\n",
              "      <td>PrivacySuppressed</td>\n",
              "      <td>61527</td>\n",
              "      <td>PrivacySuppressed</td>\n",
              "      <td>PrivacySuppressed</td>\n",
              "      <td>PrivacySuppressed</td>\n",
              "      <td>9.0</td>\n",
              "      <td>10.0</td>\n",
              "    </tr>\n",
              "  </tbody>\n",
              "</table>\n",
              "</div>"
            ],
            "text/plain": [
              "     UNITID  OPEID6  ... IPEDSCOUNT1 IPEDSCOUNT2\n",
              "0  100654.0    1002  ...         4.0         NaN\n",
              "1  100654.0    1002  ...         NaN         NaN\n",
              "2  100654.0    1002  ...         7.0         6.0\n",
              "3  100654.0    1002  ...         5.0         8.0\n",
              "4  100654.0    1002  ...         9.0        10.0\n",
              "\n",
              "[5 rows x 18 columns]"
            ]
          },
          "metadata": {
            "tags": []
          },
          "execution_count": 75
        }
      ]
    },
    {
      "cell_type": "code",
      "metadata": {
        "id": "qOSdVjgxumjy"
      },
      "source": [
        "## Selecting Columns\n",
        "example = all_data['INSTNM']\n",
        "## Selecting Rows by the Index\n",
        "#example = all_data.iloc[5]\n",
        "## Selecting Rows by a value in a column\n",
        "#example = all_data.loc[all_data['CONTROL']=='Public']\n",
        "\n",
        "\n",
        "print(example)"
      ],
      "execution_count": null,
      "outputs": []
    },
    {
      "cell_type": "markdown",
      "metadata": {
        "id": "r7BqImpTnrE6"
      },
      "source": [
        "Clean the Data"
      ]
    },
    {
      "cell_type": "code",
      "metadata": {
        "id": "xnOsyXHYnsJ-",
        "outputId": "b05caf4f-8ebe-448c-b994-d226b9c55120",
        "colab": {
          "base_uri": "https://localhost:8080/",
          "height": 204
        }
      },
      "source": [
        "## Select the columns that we want \n",
        "df = all_data[['INSTNM','CIPDESC','CREDDESC','MD_EARN_WNE']]\n",
        "\n",
        "## Select rows where UNC-CH is the institution\n",
        "df = df.loc[df['INSTNM']==\"University of North Carolina at Chapel Hill\"]\n",
        "\n",
        "## Select rows that are about Bachelors Degrees\n",
        "df = df.loc[df['CREDDESC']==\"Bachelors Degree\"]\n",
        "\n",
        "## Select rows that have values for the median earnings\n",
        "df = df.loc[df['MD_EARN_WNE']!= \"PrivacySuppressed\"]\n",
        "\n",
        "## Convert Median Earnings Column to a numeric value from string\n",
        "df['MD_EARN_WNE'] = df['MD_EARN_WNE'].astype(int)\n",
        "\n",
        "## Sort by highest to lowest paying \n",
        "df = df.sort_values(by='MD_EARN_WNE',ascending=False)\n",
        "\n",
        "df = df.reset_index(drop=True)\n",
        "df.head()\n"
      ],
      "execution_count": 72,
      "outputs": [
        {
          "output_type": "execute_result",
          "data": {
            "text/html": [
              "<div>\n",
              "<style scoped>\n",
              "    .dataframe tbody tr th:only-of-type {\n",
              "        vertical-align: middle;\n",
              "    }\n",
              "\n",
              "    .dataframe tbody tr th {\n",
              "        vertical-align: top;\n",
              "    }\n",
              "\n",
              "    .dataframe thead th {\n",
              "        text-align: right;\n",
              "    }\n",
              "</style>\n",
              "<table border=\"1\" class=\"dataframe\">\n",
              "  <thead>\n",
              "    <tr style=\"text-align: right;\">\n",
              "      <th></th>\n",
              "      <th>INSTNM</th>\n",
              "      <th>CIPDESC</th>\n",
              "      <th>CREDDESC</th>\n",
              "      <th>MD_EARN_WNE</th>\n",
              "    </tr>\n",
              "  </thead>\n",
              "  <tbody>\n",
              "    <tr>\n",
              "      <th>0</th>\n",
              "      <td>University of North Carolina at Chapel Hill</td>\n",
              "      <td>Business Administration, Management and Operat...</td>\n",
              "      <td>Bachelors Degree</td>\n",
              "      <td>71800</td>\n",
              "    </tr>\n",
              "    <tr>\n",
              "      <th>1</th>\n",
              "      <td>University of North Carolina at Chapel Hill</td>\n",
              "      <td>Computer Science.</td>\n",
              "      <td>Bachelors Degree</td>\n",
              "      <td>71000</td>\n",
              "    </tr>\n",
              "    <tr>\n",
              "      <th>2</th>\n",
              "      <td>University of North Carolina at Chapel Hill</td>\n",
              "      <td>Applied Mathematics.</td>\n",
              "      <td>Bachelors Degree</td>\n",
              "      <td>64400</td>\n",
              "    </tr>\n",
              "    <tr>\n",
              "      <th>3</th>\n",
              "      <td>University of North Carolina at Chapel Hill</td>\n",
              "      <td>Registered Nursing, Nursing Administration, Nu...</td>\n",
              "      <td>Bachelors Degree</td>\n",
              "      <td>58200</td>\n",
              "    </tr>\n",
              "    <tr>\n",
              "      <th>4</th>\n",
              "      <td>University of North Carolina at Chapel Hill</td>\n",
              "      <td>Information Science/Studies.</td>\n",
              "      <td>Bachelors Degree</td>\n",
              "      <td>54500</td>\n",
              "    </tr>\n",
              "  </tbody>\n",
              "</table>\n",
              "</div>"
            ],
            "text/plain": [
              "                                        INSTNM  ... MD_EARN_WNE\n",
              "0  University of North Carolina at Chapel Hill  ...       71800\n",
              "1  University of North Carolina at Chapel Hill  ...       71000\n",
              "2  University of North Carolina at Chapel Hill  ...       64400\n",
              "3  University of North Carolina at Chapel Hill  ...       58200\n",
              "4  University of North Carolina at Chapel Hill  ...       54500\n",
              "\n",
              "[5 rows x 4 columns]"
            ]
          },
          "metadata": {
            "tags": []
          },
          "execution_count": 72
        }
      ]
    },
    {
      "cell_type": "markdown",
      "metadata": {
        "id": "tg04AisUt9zc"
      },
      "source": [
        "Plotting the Data"
      ]
    },
    {
      "cell_type": "code",
      "metadata": {
        "id": "jNTMaK9ft_Jx",
        "outputId": "2b928da7-5647-4e26-a5a2-607662e8737b",
        "colab": {
          "base_uri": "https://localhost:8080/",
          "height": 713
        }
      },
      "source": [
        "###  Bar Chart of the top 10 median salaries by Field of Study\n",
        "## Get the top 10 rows\n",
        "top_ten = df.iloc[0:10]\n",
        "\n",
        "## Bar chart \n",
        "plt.bar(x=top_ten['CIPDESC'],height=top_ten['MD_EARN_WNE'])\n",
        "\n",
        "# # Format the x ticks\n",
        "plt.xticks(rotation=90)\n",
        "\n",
        "# # # Add labels to the axes\n",
        "plt.xlabel(\"Field of Study\",fontsize=16)\n",
        "plt.ylabel(\"Median Salary in USD\",fontsize=16)\n",
        "\n",
        "# # # Add a title\n",
        "plt.title(\"Top 10 Undergraduate Fields of Study at UNC by Median Salary\",fontsize=20)\n",
        "\n",
        "plt.show()\n"
      ],
      "execution_count": 74,
      "outputs": [
        {
          "output_type": "display_data",
          "data": {
            "image/png": "[encoded data removed]",
            "text/plain": [
              "<Figure size 432x288 with 1 Axes>"
            ]
          },
          "metadata": {
            "tags": [],
            "needs_background": "light"
          }
        }
      ]
    },
    {
      "cell_type": "markdown",
      "metadata": {
        "id": "I9s2Y9nUeHzV"
      },
      "source": [
        "Other Things to Try:"
      ]
    },
    {
      "cell_type": "code",
      "metadata": {
        "id": "VAInq2Aw0xYN"
      },
      "source": [
        "## Compare earnings and debt by degree level. Are the higher starting salaries from Bachelor's degrees worth the higher debt compared to Associate's degrees\n",
        "## Using the count column, find the most popular fields of study. Do these align with high paying fields?\n",
        "## Create a column to calculate the Median Earnings to Median Debt Ratio. Is this higher for public or private schools? \n",
        "## Explore the data, try new things, look at the Pandas and Matplotlib documentation pages for ideas"
      ],
      "execution_count": null,
      "outputs": []
    }
  ]
}