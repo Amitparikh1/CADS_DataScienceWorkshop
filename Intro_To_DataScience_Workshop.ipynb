{
  "nbformat": 4,
  "nbformat_minor": 0,
  "metadata": {
    "colab": {
      "name": "Intro_To_DataScience_Workshop.ipynb",
      "provenance": [],
      "authorship_tag": "ABX9TyNlCaILRGNIYB3epRvJ6FvC",
      "include_colab_link": true
    },
    "kernelspec": {
      "name": "python3",
      "display_name": "Python 3"
    }
  },
  "cells": [
    {
      "cell_type": "markdown",
      "metadata": {
        "id": "view-in-github",
        "colab_type": "text"
      },
      "source": [
        "<a href=\"https://colab.research.google.com/github/Amitparikh1/CADS_DataScienceWorkshop/blob/main/Intro_To_DataScience_Workshop.ipynb\" target=\"_parent\"><img src=\"https://colab.research.google.com/assets/colab-badge.svg\" alt=\"Open In Colab\"/></a>"
      ]
    },
    {
      "cell_type": "markdown",
      "metadata": {
        "id": "lZ7U2BvymdL8"
      },
      "source": [
        "Imports "
      ]
    },
    {
      "cell_type": "code",
      "metadata": {
        "id": "jBeBFTZ_mfP5"
      },
      "source": [
        "import pandas as pd\n",
        "import matplotlib.pyplot as plt"
      ],
      "execution_count": 1,
      "outputs": []
    },
    {
      "cell_type": "markdown",
      "metadata": {
        "id": "PRHtRTTHmZYZ"
      },
      "source": [
        "Read in the data "
      ]
    },
    {
      "cell_type": "code",
      "metadata": {
        "id": "GFXTNZgkmTtQ",
        "outputId": "7be30cf6-4266-47c7-fe1e-bd6fbf11fdba",
        "colab": {
          "base_uri": "https://localhost:8080/",
          "height": 374
        }
      },
      "source": [
        "## Read from a csv\n",
        "all_data = pd.read_csv(\"most-recent-field-data-elements.csv\")\n",
        "\n",
        "## Command to look at the first 5 rows of data\n",
        "all_data.head()"
      ],
      "execution_count": 2,
      "outputs": [
        {
          "output_type": "execute_result",
          "data": {
            "text/html": [
              "<div>\n",
              "<style scoped>\n",
              "    .dataframe tbody tr th:only-of-type {\n",
              "        vertical-align: middle;\n",
              "    }\n",
              "\n",
              "    .dataframe tbody tr th {\n",
              "        vertical-align: top;\n",
              "    }\n",
              "\n",
              "    .dataframe thead th {\n",
              "        text-align: right;\n",
              "    }\n",
              "</style>\n",
              "<table border=\"1\" class=\"dataframe\">\n",
              "  <thead>\n",
              "    <tr style=\"text-align: right;\">\n",
              "      <th></th>\n",
              "      <th>UNITID</th>\n",
              "      <th>OPEID6</th>\n",
              "      <th>INSTNM</th>\n",
              "      <th>CONTROL</th>\n",
              "      <th>MAIN</th>\n",
              "      <th>CIPCODE</th>\n",
              "      <th>CIPDESC</th>\n",
              "      <th>CREDLEV</th>\n",
              "      <th>CREDDESC</th>\n",
              "      <th>COUNT</th>\n",
              "      <th>DEBTMEDIAN</th>\n",
              "      <th>DEBTPAYMENT10YR</th>\n",
              "      <th>DEBTMEAN</th>\n",
              "      <th>TITLEIVCOUNT</th>\n",
              "      <th>EARNINGSCOUNT</th>\n",
              "      <th>MD_EARN_WNE</th>\n",
              "      <th>IPEDSCOUNT1</th>\n",
              "      <th>IPEDSCOUNT2</th>\n",
              "    </tr>\n",
              "  </thead>\n",
              "  <tbody>\n",
              "    <tr>\n",
              "      <th>0</th>\n",
              "      <td>100654</td>\n",
              "      <td>1002</td>\n",
              "      <td>Alabama A &amp; M University</td>\n",
              "      <td>Public</td>\n",
              "      <td>1</td>\n",
              "      <td>100</td>\n",
              "      <td>Agriculture, General.</td>\n",
              "      <td>3</td>\n",
              "      <td>Bachelors Degree</td>\n",
              "      <td>PrivacySuppressed</td>\n",
              "      <td>PrivacySuppressed</td>\n",
              "      <td>PrivacySuppressed</td>\n",
              "      <td>PrivacySuppressed</td>\n",
              "      <td>PrivacySuppressed</td>\n",
              "      <td>PrivacySuppressed</td>\n",
              "      <td>PrivacySuppressed</td>\n",
              "      <td>4.0</td>\n",
              "      <td>NaN</td>\n",
              "    </tr>\n",
              "    <tr>\n",
              "      <th>1</th>\n",
              "      <td>100654</td>\n",
              "      <td>1002</td>\n",
              "      <td>Alabama A &amp; M University</td>\n",
              "      <td>Public</td>\n",
              "      <td>1</td>\n",
              "      <td>101</td>\n",
              "      <td>Agricultural Business and Management.</td>\n",
              "      <td>3</td>\n",
              "      <td>Bachelors Degree</td>\n",
              "      <td>PrivacySuppressed</td>\n",
              "      <td>PrivacySuppressed</td>\n",
              "      <td>PrivacySuppressed</td>\n",
              "      <td>PrivacySuppressed</td>\n",
              "      <td>PrivacySuppressed</td>\n",
              "      <td>PrivacySuppressed</td>\n",
              "      <td>PrivacySuppressed</td>\n",
              "      <td>NaN</td>\n",
              "      <td>NaN</td>\n",
              "    </tr>\n",
              "    <tr>\n",
              "      <th>2</th>\n",
              "      <td>100654</td>\n",
              "      <td>1002</td>\n",
              "      <td>Alabama A &amp; M University</td>\n",
              "      <td>Public</td>\n",
              "      <td>1</td>\n",
              "      <td>109</td>\n",
              "      <td>Animal Sciences.</td>\n",
              "      <td>3</td>\n",
              "      <td>Bachelors Degree</td>\n",
              "      <td>PrivacySuppressed</td>\n",
              "      <td>PrivacySuppressed</td>\n",
              "      <td>PrivacySuppressed</td>\n",
              "      <td>31066</td>\n",
              "      <td>PrivacySuppressed</td>\n",
              "      <td>PrivacySuppressed</td>\n",
              "      <td>PrivacySuppressed</td>\n",
              "      <td>7.0</td>\n",
              "      <td>6.0</td>\n",
              "    </tr>\n",
              "    <tr>\n",
              "      <th>3</th>\n",
              "      <td>100654</td>\n",
              "      <td>1002</td>\n",
              "      <td>Alabama A &amp; M University</td>\n",
              "      <td>Public</td>\n",
              "      <td>1</td>\n",
              "      <td>110</td>\n",
              "      <td>Food Science and Technology.</td>\n",
              "      <td>3</td>\n",
              "      <td>Bachelors Degree</td>\n",
              "      <td>PrivacySuppressed</td>\n",
              "      <td>PrivacySuppressed</td>\n",
              "      <td>PrivacySuppressed</td>\n",
              "      <td>PrivacySuppressed</td>\n",
              "      <td>PrivacySuppressed</td>\n",
              "      <td>PrivacySuppressed</td>\n",
              "      <td>PrivacySuppressed</td>\n",
              "      <td>5.0</td>\n",
              "      <td>8.0</td>\n",
              "    </tr>\n",
              "    <tr>\n",
              "      <th>4</th>\n",
              "      <td>100654</td>\n",
              "      <td>1002</td>\n",
              "      <td>Alabama A &amp; M University</td>\n",
              "      <td>Public</td>\n",
              "      <td>1</td>\n",
              "      <td>110</td>\n",
              "      <td>Food Science and Technology.</td>\n",
              "      <td>5</td>\n",
              "      <td>Master's Degree</td>\n",
              "      <td>15</td>\n",
              "      <td>PrivacySuppressed</td>\n",
              "      <td>PrivacySuppressed</td>\n",
              "      <td>61527</td>\n",
              "      <td>PrivacySuppressed</td>\n",
              "      <td>PrivacySuppressed</td>\n",
              "      <td>PrivacySuppressed</td>\n",
              "      <td>9.0</td>\n",
              "      <td>10.0</td>\n",
              "    </tr>\n",
              "  </tbody>\n",
              "</table>\n",
              "</div>"
            ],
            "text/plain": [
              "   UNITID  OPEID6  ... IPEDSCOUNT1 IPEDSCOUNT2\n",
              "0  100654    1002  ...         4.0         NaN\n",
              "1  100654    1002  ...         NaN         NaN\n",
              "2  100654    1002  ...         7.0         6.0\n",
              "3  100654    1002  ...         5.0         8.0\n",
              "4  100654    1002  ...         9.0        10.0\n",
              "\n",
              "[5 rows x 18 columns]"
            ]
          },
          "metadata": {
            "tags": []
          },
          "execution_count": 2
        }
      ]
    },
    {
      "cell_type": "markdown",
      "metadata": {
        "id": "r7BqImpTnrE6"
      },
      "source": [
        "Clean the Data"
      ]
    },
    {
      "cell_type": "code",
      "metadata": {
        "id": "xnOsyXHYnsJ-"
      },
      "source": [
        "## Select the columns that we want \n",
        "df = all_data[['CIPDESC','CREDDESC','DEBTMEDIAN','MD_EARN_WNE']]\n",
        "\n",
        "\n",
        "## Select rows that are about Bachelors Degrees\n",
        "df = df.loc[df['CREDDESC']==\"Bachelors Degree\"]\n",
        "## Select rows that have values for the median earnings and median debt\n",
        "df = df.loc[df['MD_EARN_WNE']!= \"PrivacySuppressed\"]\n",
        "df = df.loc[df['DEBTMEDIAN']!= \"PrivacySuppressed\"]\n",
        "\n",
        "\n",
        "## Convert Median Earnings Column to a numeric value from string\n",
        "df[['DEBTMEDIAN','MD_EARN_WNE']] = df[['DEBTMEDIAN','MD_EARN_WNE']].astype(int)\n",
        "## Combine rows by their field of study and average their median earnings \n",
        "df = df.groupby(df['CIPDESC'],as_index=False).mean()\n",
        "\n",
        "## Sort by highest to lowest paying \n",
        "df = df.sort_values(by='MD_EARN_WNE',ascending=False)\n",
        "\n",
        "## Finding certain values\n",
        "# print(df.loc[df['CIPDESC']=='Computer Science.'])\n",
        "# print(df.loc[df['CIPDESC']=='Statistics.'])\n"
      ],
      "execution_count": 3,
      "outputs": []
    },
    {
      "cell_type": "markdown",
      "metadata": {
        "id": "tg04AisUt9zc"
      },
      "source": [
        "Plotting the Data"
      ]
    },
    {
      "cell_type": "code",
      "metadata": {
        "id": "jNTMaK9ft_Jx",
        "outputId": "4ec61d67-689d-44af-9030-9563118325dc",
        "colab": {
          "base_uri": "https://localhost:8080/",
          "height": 713
        }
      },
      "source": [
        "###  Bar Chart of the top 10 median salaries by Field of Study\n",
        "## Get the top 10 rows\n",
        "top_ten = df.iloc[0:10]\n",
        "\n",
        "top_ten.plot.bar(x='CIPDESC',y='MD_EARN_WNE')\n",
        "plt.xlabel(\"Field of Study\",fontsize=16)\n",
        "plt.ylabel(\"Median Salary in USD\",fontsize=16)\n",
        "plt.title(\"Top 10 Fields of Study by Median Salary\",fontsize=20)\n",
        "plt.show()"
      ],
      "execution_count": 4,
      "outputs": [
        {
          "output_type": "display_data",
          "data": {
            "image/png": "[encoded data removed]",
            "text/plain": [
              "<Figure size 432x288 with 1 Axes>"
            ]
          },
          "metadata": {
            "tags": [],
            "needs_background": "light"
          }
        }
      ]
    },
    {
      "cell_type": "markdown",
      "metadata": {
        "id": "w-k8QIMrh5nu"
      },
      "source": [
        "Median Salary to Debt Ratio"
      ]
    },
    {
      "cell_type": "code",
      "metadata": {
        "id": "TZ2AvaTDh-3T",
        "outputId": "411d4afa-99ec-4103-d8a9-d6ead1533775",
        "colab": {
          "base_uri": "https://localhost:8080/",
          "height": 471
        }
      },
      "source": [
        "## Scatter plot of debt to earnings (doesn't show much)\n",
        "df.plot.scatter(x='MD_EARN_WNE',y='DEBTMEDIAN')\n",
        "plt.show()\n",
        "## Add a new column\n",
        "df['EarningsToDebtRatio'] = df['MD_EARN_WNE']/df['DEBTMEDIAN']\n",
        "df = df.sort_values(by='EarningsToDebtRatio',ascending=False)\n",
        "df.head()"
      ],
      "execution_count": 6,
      "outputs": [
        {
          "output_type": "display_data",
          "data": {
            "image/png": "[encoded data removed]",
            "text/plain": [
              "<Figure size 432x288 with 1 Axes>"
            ]
          },
          "metadata": {
            "tags": [],
            "needs_background": "light"
          }
        },
        {
          "output_type": "execute_result",
          "data": {
            "text/html": [
              "<div>\n",
              "<style scoped>\n",
              "    .dataframe tbody tr th:only-of-type {\n",
              "        vertical-align: middle;\n",
              "    }\n",
              "\n",
              "    .dataframe tbody tr th {\n",
              "        vertical-align: top;\n",
              "    }\n",
              "\n",
              "    .dataframe thead th {\n",
              "        text-align: right;\n",
              "    }\n",
              "</style>\n",
              "<table border=\"1\" class=\"dataframe\">\n",
              "  <thead>\n",
              "    <tr style=\"text-align: right;\">\n",
              "      <th></th>\n",
              "      <th>CIPDESC</th>\n",
              "      <th>DEBTMEDIAN</th>\n",
              "      <th>MD_EARN_WNE</th>\n",
              "      <th>EarningsToDebtRatio</th>\n",
              "    </tr>\n",
              "  </thead>\n",
              "  <tbody>\n",
              "    <tr>\n",
              "      <th>144</th>\n",
              "      <td>Peace Studies and Conflict Resolution.</td>\n",
              "      <td>11000.000000</td>\n",
              "      <td>43300.0</td>\n",
              "      <td>3.936364</td>\n",
              "    </tr>\n",
              "    <tr>\n",
              "      <th>47</th>\n",
              "      <td>Construction Engineering Technologies.</td>\n",
              "      <td>18916.600000</td>\n",
              "      <td>73640.0</td>\n",
              "      <td>3.892877</td>\n",
              "    </tr>\n",
              "    <tr>\n",
              "      <th>21</th>\n",
              "      <td>Biomathematics, Bioinformatics, and Computatio...</td>\n",
              "      <td>17786.000000</td>\n",
              "      <td>67800.0</td>\n",
              "      <td>3.811987</td>\n",
              "    </tr>\n",
              "    <tr>\n",
              "      <th>43</th>\n",
              "      <td>Computer Science.</td>\n",
              "      <td>19124.107143</td>\n",
              "      <td>66825.0</td>\n",
              "      <td>3.494281</td>\n",
              "    </tr>\n",
              "    <tr>\n",
              "      <th>175</th>\n",
              "      <td>Statistics.</td>\n",
              "      <td>14718.750000</td>\n",
              "      <td>50775.0</td>\n",
              "      <td>3.449682</td>\n",
              "    </tr>\n",
              "  </tbody>\n",
              "</table>\n",
              "</div>"
            ],
            "text/plain": [
              "                                               CIPDESC  ...  EarningsToDebtRatio\n",
              "144             Peace Studies and Conflict Resolution.  ...             3.936364\n",
              "47              Construction Engineering Technologies.  ...             3.892877\n",
              "21   Biomathematics, Bioinformatics, and Computatio...  ...             3.811987\n",
              "43                                   Computer Science.  ...             3.494281\n",
              "175                                        Statistics.  ...             3.449682\n",
              "\n",
              "[5 rows x 4 columns]"
            ]
          },
          "metadata": {
            "tags": []
          },
          "execution_count": 6
        }
      ]
    },
    {
      "cell_type": "markdown",
      "metadata": {
        "id": "I9s2Y9nUeHzV"
      },
      "source": [
        "Earnings and Debt by Degree Level or Histogram of all median salaries"
      ]
    }
  ]
}