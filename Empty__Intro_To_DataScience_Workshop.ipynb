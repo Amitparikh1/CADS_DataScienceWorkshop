{
  "nbformat": 4,
  "nbformat_minor": 0,
  "metadata": {
    "colab": {
      "name": "Empty_ Intro_To_DataScience_Workshop.ipynb",
      "provenance": [],
      "authorship_tag": "ABX9TyOlGYauLd3TOVB+JunuqSI9",
      "include_colab_link": true
    },
    "kernelspec": {
      "name": "python3",
      "display_name": "Python 3"
    }
  },
  "cells": [
    {
      "cell_type": "markdown",
      "metadata": {
        "id": "view-in-github",
        "colab_type": "text"
      },
      "source": [
        "<a href=\"https://colab.research.google.com/github/Amitparikh1/CADS_DataScienceWorkshop/blob/main/Empty__Intro_To_DataScience_Workshop.ipynb\" target=\"_parent\"><img src=\"https://colab.research.google.com/assets/colab-badge.svg\" alt=\"Open In Colab\"/></a>"
      ]
    },
    {
      "cell_type": "markdown",
      "metadata": {
        "id": "lZ7U2BvymdL8"
      },
      "source": [
        "Imports "
      ]
    },
    {
      "cell_type": "code",
      "metadata": {
        "id": "jBeBFTZ_mfP5"
      },
      "source": [
        "import pandas as pd\n",
        "import matplotlib.pyplot as plt"
      ],
      "execution_count": null,
      "outputs": []
    },
    {
      "cell_type": "markdown",
      "metadata": {
        "id": "PRHtRTTHmZYZ"
      },
      "source": [
        "Read in the data "
      ]
    },
    {
      "cell_type": "code",
      "metadata": {
        "id": "GFXTNZgkmTtQ"
      },
      "source": [
        "## Read from a csv\n",
        "url=\"https://raw.githubusercontent.com/Amitparikh1/CADS_DataScienceWorkshop/main/most-recent-field-data-elements.csv\"\n",
        "all_data = pd.read_csv() # Fill in code here\n",
        "## \"head()\" Command to look at the first 5 rows of data\n",
        "all_data.head()"
      ],
      "execution_count": null,
      "outputs": []
    },
    {
      "cell_type": "code",
      "metadata": {
        "id": "BZd0yAEGuh-M"
      },
      "source": [
        "## Selecting Columns\n",
        "example = all_data[] # Fill in code here\n",
        "\n",
        "## Selecting Rows by the Index\n",
        "#example = all_data.loc[5]\n",
        "## Selecting Rows by a value in a column\n",
        "#example = all_data.loc[all_data['CONTROL']=='Public']\n",
        "\n",
        "\n",
        "print(example)"
      ],
      "execution_count": null,
      "outputs": []
    },
    {
      "cell_type": "markdown",
      "metadata": {
        "id": "r7BqImpTnrE6"
      },
      "source": [
        "Clean the Data"
      ]
    },
    {
      "cell_type": "code",
      "metadata": {
        "id": "xnOsyXHYnsJ-"
      },
      "source": [
        "## Select the columns that we want \n",
        "df = all_data[['CIPDESC','CREDDESC','MD_EARN_WNE']]\n",
        "\n",
        "## Select rows that are about Bachelors Degrees\n",
        "df = df.loc[df['CREDDESC']==] # Fill in code here \n",
        "\n",
        "## Select rows that have values for the median earnings\n",
        "df = df.loc[df['MD_EARN_WNE']!= \"PrivacySuppressed\"]\n",
        "\n",
        "\n",
        "## Convert Median Earnings Column to a numeric value from string\n",
        "df['MD_EARN_WNE'] = df['MD_EARN_WNE'].astype(int)\n",
        "\n",
        "## Combine rows by their field of study and average their median earnings \n",
        "df = df.(df['CIPDESC'],as_index=False).mean() # Fill in code here\n",
        "\n",
        "## Sort by highest to lowest paying \n",
        "df = df.sort_values(by='MD_EARN_WNE',ascending=False)\n",
        "\n",
        "df = df.reset_index(drop=True)\n",
        "df.head()\n",
        "## Finding certain values\n",
        "# print(df.loc[df['CIPDESC']=='Computer Science.'])\n",
        "# print(df.loc[df['CIPDESC']=='Statistics.'])\n"
      ],
      "execution_count": null,
      "outputs": []
    },
    {
      "cell_type": "markdown",
      "metadata": {
        "id": "tg04AisUt9zc"
      },
      "source": [
        "Plotting the Data"
      ]
    },
    {
      "cell_type": "code",
      "metadata": {
        "id": "jNTMaK9ft_Jx"
      },
      "source": [
        "###  Bar Chart of the top 10 median salaries by Field of Study\n",
        "## Get the top 10 rows\n",
        "top_ten = df.[0:10] # Fill in code here\n",
        "\n",
        "## Bar chart \n",
        "plt.bar(x=top_ten['CIPDESC'],height=top_ten['MD_EARN_WNE'])\n",
        "\n",
        "# Format the x ticks\n",
        "plt.xticks(rotation=90)\n",
        "\n",
        "# Add labels to the axes\n",
        "plt.xlabel(\"\",fontsize=16) # Add your own x label\n",
        "plt.ylabel(\"\",fontsize=16) # Add your own y label\n",
        "\n",
        "# Add a title\n",
        "plt.title(\"Top 10 Fields of Study by Median Salary\",fontsize=20)\n",
        "\n",
        "plt.show()\n"
      ],
      "execution_count": null,
      "outputs": []
    },
    {
      "cell_type": "markdown",
      "metadata": {
        "id": "I9s2Y9nUeHzV"
      },
      "source": [
        "Other Things to Try:"
      ]
    },
    {
      "cell_type": "code",
      "metadata": {
        "id": "VAInq2Aw0xYN"
      },
      "source": [
        "## Compare earnings and debt by degree level. Are the higher starting salaries from Bachelor's degrees worth the higher debt compared to Associate's degrees\n",
        "## Using the count column, find the most popular fields of study. Do these align with high paying fields?\n",
        "## Create a column to calculate the Median Earnings to Median Debt Ratio. Is this higher for public or private schools? \n",
        "## Explore the data, try new things, look at the Pandas and Matplotlib documentation pages for ideas"
      ],
      "execution_count": null,
      "outputs": []
    }
  ]
}